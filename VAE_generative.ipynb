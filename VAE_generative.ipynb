{
 "cells": [
  {
   "cell_type": "markdown",
   "id": "c9d6e1f3",
   "metadata": {},
   "source": [
    "# Generative Model Project\n",
    "Yassine Ben Jemaa\n",
    "Irshath Nagouri"
   ]
  },
  {
   "cell_type": "markdown",
   "id": "2047986c",
   "metadata": {},
   "source": [
    "# Dataset \n"
   ]
  },
  {
   "cell_type": "code",
   "execution_count": 294,
   "id": "016815c3",
   "metadata": {},
   "outputs": [
    {
     "data": {
      "text/html": [
       "<div>\n",
       "<style scoped>\n",
       "    .dataframe tbody tr th:only-of-type {\n",
       "        vertical-align: middle;\n",
       "    }\n",
       "\n",
       "    .dataframe tbody tr th {\n",
       "        vertical-align: top;\n",
       "    }\n",
       "\n",
       "    .dataframe thead th {\n",
       "        text-align: right;\n",
       "    }\n",
       "</style>\n",
       "<table border=\"1\" class=\"dataframe\">\n",
       "  <thead>\n",
       "    <tr style=\"text-align: right;\">\n",
       "      <th></th>\n",
       "      <th>0</th>\n",
       "      <th>0.01249535315117</th>\n",
       "      <th>0.0111256706670408</th>\n",
       "      <th>0.0032520459252687</th>\n",
       "      <th>0.0066249108779032</th>\n",
       "    </tr>\n",
       "  </thead>\n",
       "  <tbody>\n",
       "    <tr>\n",
       "      <th>0</th>\n",
       "      <td>1</td>\n",
       "      <td>0.011439</td>\n",
       "      <td>0.002691</td>\n",
       "      <td>0.001206</td>\n",
       "      <td>0.006947</td>\n",
       "    </tr>\n",
       "    <tr>\n",
       "      <th>1</th>\n",
       "      <td>2</td>\n",
       "      <td>0.000632</td>\n",
       "      <td>0.007277</td>\n",
       "      <td>0.004049</td>\n",
       "      <td>0.000074</td>\n",
       "    </tr>\n",
       "    <tr>\n",
       "      <th>2</th>\n",
       "      <td>3</td>\n",
       "      <td>0.017828</td>\n",
       "      <td>0.028210</td>\n",
       "      <td>0.007758</td>\n",
       "      <td>0.007382</td>\n",
       "    </tr>\n",
       "    <tr>\n",
       "      <th>3</th>\n",
       "      <td>4</td>\n",
       "      <td>0.021115</td>\n",
       "      <td>0.019642</td>\n",
       "      <td>0.009238</td>\n",
       "      <td>0.011499</td>\n",
       "    </tr>\n",
       "    <tr>\n",
       "      <th>4</th>\n",
       "      <td>5</td>\n",
       "      <td>0.001177</td>\n",
       "      <td>0.002096</td>\n",
       "      <td>0.001348</td>\n",
       "      <td>0.004966</td>\n",
       "    </tr>\n",
       "  </tbody>\n",
       "</table>\n",
       "</div>"
      ],
      "text/plain": [
       "   0  0.01249535315117  0.0111256706670408  0.0032520459252687  \\\n",
       "0  1          0.011439            0.002691            0.001206   \n",
       "1  2          0.000632            0.007277            0.004049   \n",
       "2  3          0.017828            0.028210            0.007758   \n",
       "3  4          0.021115            0.019642            0.009238   \n",
       "4  5          0.001177            0.002096            0.001348   \n",
       "\n",
       "   0.0066249108779032  \n",
       "0            0.006947  \n",
       "1            0.000074  \n",
       "2            0.007382  \n",
       "3            0.011499  \n",
       "4            0.004966  "
      ]
     },
     "execution_count": 294,
     "metadata": {},
     "output_type": "execute_result"
    }
   ],
   "source": [
    "import pandas as pd\n",
    "\n",
    "# Load the CSV file into a DataFrame\n",
    "file_path = './data_train_log_return.csv'\n",
    "data_train_log_return = pd.read_csv(file_path)\n",
    "\n",
    "# Display the first few rows of the DataFrame\n",
    "data_train_log_return.head()\n"
   ]
  },
  {
   "cell_type": "code",
   "execution_count": 295,
   "id": "f0b5ba08",
   "metadata": {},
   "outputs": [
    {
     "data": {
      "text/html": [
       "<div>\n",
       "<style scoped>\n",
       "    .dataframe tbody tr th:only-of-type {\n",
       "        vertical-align: middle;\n",
       "    }\n",
       "\n",
       "    .dataframe tbody tr th {\n",
       "        vertical-align: top;\n",
       "    }\n",
       "\n",
       "    .dataframe thead th {\n",
       "        text-align: right;\n",
       "    }\n",
       "</style>\n",
       "<table border=\"1\" class=\"dataframe\">\n",
       "  <thead>\n",
       "    <tr style=\"text-align: right;\">\n",
       "      <th></th>\n",
       "      <th>f1</th>\n",
       "      <th>f2</th>\n",
       "      <th>f3</th>\n",
       "      <th>f4</th>\n",
       "    </tr>\n",
       "  </thead>\n",
       "  <tbody>\n",
       "    <tr>\n",
       "      <th>0</th>\n",
       "      <td>0.011439</td>\n",
       "      <td>0.002691</td>\n",
       "      <td>0.001206</td>\n",
       "      <td>0.006947</td>\n",
       "    </tr>\n",
       "    <tr>\n",
       "      <th>1</th>\n",
       "      <td>0.000632</td>\n",
       "      <td>0.007277</td>\n",
       "      <td>0.004049</td>\n",
       "      <td>0.000074</td>\n",
       "    </tr>\n",
       "    <tr>\n",
       "      <th>2</th>\n",
       "      <td>0.017828</td>\n",
       "      <td>0.028210</td>\n",
       "      <td>0.007758</td>\n",
       "      <td>0.007382</td>\n",
       "    </tr>\n",
       "    <tr>\n",
       "      <th>3</th>\n",
       "      <td>0.021115</td>\n",
       "      <td>0.019642</td>\n",
       "      <td>0.009238</td>\n",
       "      <td>0.011499</td>\n",
       "    </tr>\n",
       "    <tr>\n",
       "      <th>4</th>\n",
       "      <td>0.001177</td>\n",
       "      <td>0.002096</td>\n",
       "      <td>0.001348</td>\n",
       "      <td>0.004966</td>\n",
       "    </tr>\n",
       "    <tr>\n",
       "      <th>...</th>\n",
       "      <td>...</td>\n",
       "      <td>...</td>\n",
       "      <td>...</td>\n",
       "      <td>...</td>\n",
       "    </tr>\n",
       "    <tr>\n",
       "      <th>740</th>\n",
       "      <td>0.001938</td>\n",
       "      <td>0.008833</td>\n",
       "      <td>0.003927</td>\n",
       "      <td>0.005106</td>\n",
       "    </tr>\n",
       "    <tr>\n",
       "      <th>741</th>\n",
       "      <td>0.005003</td>\n",
       "      <td>0.018943</td>\n",
       "      <td>0.003057</td>\n",
       "      <td>0.001988</td>\n",
       "    </tr>\n",
       "    <tr>\n",
       "      <th>742</th>\n",
       "      <td>0.007683</td>\n",
       "      <td>0.001958</td>\n",
       "      <td>0.007002</td>\n",
       "      <td>0.006467</td>\n",
       "    </tr>\n",
       "    <tr>\n",
       "      <th>743</th>\n",
       "      <td>0.003396</td>\n",
       "      <td>0.001280</td>\n",
       "      <td>0.007621</td>\n",
       "      <td>0.001680</td>\n",
       "    </tr>\n",
       "    <tr>\n",
       "      <th>744</th>\n",
       "      <td>0.004591</td>\n",
       "      <td>0.006675</td>\n",
       "      <td>0.007600</td>\n",
       "      <td>0.009560</td>\n",
       "    </tr>\n",
       "  </tbody>\n",
       "</table>\n",
       "<p>745 rows × 4 columns</p>\n",
       "</div>"
      ],
      "text/plain": [
       "           f1        f2        f3        f4\n",
       "0    0.011439  0.002691  0.001206  0.006947\n",
       "1    0.000632  0.007277  0.004049  0.000074\n",
       "2    0.017828  0.028210  0.007758  0.007382\n",
       "3    0.021115  0.019642  0.009238  0.011499\n",
       "4    0.001177  0.002096  0.001348  0.004966\n",
       "..        ...       ...       ...       ...\n",
       "740  0.001938  0.008833  0.003927  0.005106\n",
       "741  0.005003  0.018943  0.003057  0.001988\n",
       "742  0.007683  0.001958  0.007002  0.006467\n",
       "743  0.003396  0.001280  0.007621  0.001680\n",
       "744  0.004591  0.006675  0.007600  0.009560\n",
       "\n",
       "[745 rows x 4 columns]"
      ]
     },
     "execution_count": 295,
     "metadata": {},
     "output_type": "execute_result"
    }
   ],
   "source": [
    "df = data_train_log_return\n",
    "df = df.drop(columns = [\"0\"])\n",
    "df = df.rename(columns={'0.01249535315117': 'f1', '0.0111256706670408': 'f2', '0.0032520459252687': 'f3', '0.0066249108779032': 'f4'})\n",
    "df\n",
    "#df = df.rename(columns = {\"f1\", \"f2\", \"f3\", \"f4\"})"
   ]
  },
  {
   "cell_type": "code",
   "execution_count": 296,
   "id": "ce337631",
   "metadata": {},
   "outputs": [
    {
     "name": "stdout",
     "output_type": "stream",
     "text": [
      "Number of samples with f1 or f2 < 0.001: 73\n"
     ]
    }
   ],
   "source": [
    "num_samples_f1_less_than_0_001 = df[(df['f1'] < 0.001) | (df['f2'] < 0.001)].shape[0]\n",
    "print(f\"Number of samples with f1 or f2 < 0.001: {num_samples_f1_less_than_0_001}\")\n"
   ]
  },
  {
   "cell_type": "code",
   "execution_count": 297,
   "id": "66d2bba4",
   "metadata": {},
   "outputs": [
    {
     "name": "stdout",
     "output_type": "stream",
     "text": [
      "Same samples: False\n"
     ]
    },
    {
     "data": {
      "text/plain": [
       "(300, 4)"
      ]
     },
     "execution_count": 297,
     "metadata": {},
     "output_type": "execute_result"
    }
   ],
   "source": [
    "df_train_400 = df.iloc[:444]\n",
    "df_test_300 = df.iloc[445:]\n",
    "same_samples = df_train_400.index.equals(df_test_300.index)\n",
    "print(f\"Same samples: {same_samples}\")\n",
    "df_test_300.shape"
   ]
  },
  {
   "cell_type": "markdown",
   "id": "452cdec2",
   "metadata": {},
   "source": [
    "# VAE implementation and Training\n"
   ]
  },
  {
   "cell_type": "code",
   "execution_count": 298,
   "id": "09de9345",
   "metadata": {},
   "outputs": [
    {
     "name": "stdout",
     "output_type": "stream",
     "text": [
      "Model: \"encoder\"\n",
      "__________________________________________________________________________________________________\n",
      " Layer (type)                Output Shape                 Param #   Connected to                  \n",
      "==================================================================================================\n",
      " input_35 (InputLayer)       [(None, 4)]                  0         []                            \n",
      "                                                                                                  \n",
      " dense_243 (Dense)           (None, 256)                  1280      ['input_35[0][0]']            \n",
      "                                                                                                  \n",
      " dense_244 (Dense)           (None, 128)                  32896     ['dense_243[0][0]']           \n",
      "                                                                                                  \n",
      " dense_245 (Dense)           (None, 64)                   8256      ['dense_244[0][0]']           \n",
      "                                                                                                  \n",
      " dense_246 (Dense)           (None, 32)                   2080      ['dense_245[0][0]']           \n",
      "                                                                                                  \n",
      " dense_247 (Dense)           (None, 16)                   528       ['dense_246[0][0]']           \n",
      "                                                                                                  \n",
      " dense_248 (Dense)           (None, 8)                    136       ['dense_247[0][0]']           \n",
      "                                                                                                  \n",
      " dense_249 (Dense)           (None, 4)                    36        ['dense_248[0][0]']           \n",
      "                                                                                                  \n",
      " dense_250 (Dense)           (None, 3)                    15        ['dense_249[0][0]']           \n",
      "                                                                                                  \n",
      " dense_251 (Dense)           (None, 3)                    15        ['dense_249[0][0]']           \n",
      "                                                                                                  \n",
      " lambda_17 (Lambda)          (None, 3)                    0         ['dense_250[0][0]',           \n",
      "                                                                     'dense_251[0][0]']           \n",
      "                                                                                                  \n",
      "==================================================================================================\n",
      "Total params: 45242 (176.73 KB)\n",
      "Trainable params: 45242 (176.73 KB)\n",
      "Non-trainable params: 0 (0.00 Byte)\n",
      "__________________________________________________________________________________________________\n",
      "Model: \"decoder\"\n",
      "_________________________________________________________________\n",
      " Layer (type)                Output Shape              Param #   \n",
      "=================================================================\n",
      " input_36 (InputLayer)       [(None, 3)]               0         \n",
      "                                                                 \n",
      " dense_252 (Dense)           (None, 4)                 16        \n",
      "                                                                 \n",
      " dense_253 (Dense)           (None, 16)                80        \n",
      "                                                                 \n",
      " dense_254 (Dense)           (None, 32)                544       \n",
      "                                                                 \n",
      " dense_255 (Dense)           (None, 64)                2112      \n",
      "                                                                 \n",
      " dense_256 (Dense)           (None, 128)               8320      \n",
      "                                                                 \n",
      " dense_257 (Dense)           (None, 4)                 516       \n",
      "                                                                 \n",
      "=================================================================\n",
      "Total params: 11588 (45.27 KB)\n",
      "Trainable params: 11588 (45.27 KB)\n",
      "Non-trainable params: 0 (0.00 Byte)\n",
      "_________________________________________________________________\n",
      "Model: \"vae\"\n",
      "__________________________________________________________________________________________________\n",
      " Layer (type)                Output Shape                 Param #   Connected to                  \n",
      "==================================================================================================\n",
      " input_35 (InputLayer)       [(None, 4)]                  0         []                            \n",
      "                                                                                                  \n",
      " encoder (Functional)        [(None, 3),                  45242     ['input_35[0][0]']            \n",
      "                              (None, 3),                                                          \n",
      "                              (None, 3)]                                                          \n",
      "                                                                                                  \n",
      " decoder (Functional)        (None, 4)                    11588     ['encoder[0][2]']             \n",
      "                                                                                                  \n",
      " dense_243 (Dense)           (None, 256)                  1280      ['input_35[0][0]']            \n",
      "                                                                                                  \n",
      " dense_244 (Dense)           (None, 128)                  32896     ['dense_243[0][0]']           \n",
      "                                                                                                  \n",
      " dense_245 (Dense)           (None, 64)                   8256      ['dense_244[0][0]']           \n",
      "                                                                                                  \n",
      " dense_246 (Dense)           (None, 32)                   2080      ['dense_245[0][0]']           \n",
      "                                                                                                  \n",
      " dense_247 (Dense)           (None, 16)                   528       ['dense_246[0][0]']           \n",
      "                                                                                                  \n",
      " dense_248 (Dense)           (None, 8)                    136       ['dense_247[0][0]']           \n",
      "                                                                                                  \n",
      " dense_249 (Dense)           (None, 4)                    36        ['dense_248[0][0]']           \n",
      "                                                                                                  \n",
      " dense_251 (Dense)           (None, 3)                    15        ['dense_249[0][0]']           \n",
      "                                                                                                  \n",
      " dense_250 (Dense)           (None, 3)                    15        ['dense_249[0][0]']           \n",
      "                                                                                                  \n",
      " tf.convert_to_tensor_18 (T  (None, 4)                    0         ['decoder[0][0]']             \n",
      " FOpLambda)                                                                                       \n",
      "                                                                                                  \n",
      " tf.cast_18 (TFOpLambda)     (None, 4)                    0         ['input_35[0][0]']            \n",
      "                                                                                                  \n",
      " tf.__operators__.add_53 (T  (None, 3)                    0         ['dense_251[0][0]']           \n",
      " FOpLambda)                                                                                       \n",
      "                                                                                                  \n",
      " tf.math.square_35 (TFOpLam  (None, 3)                    0         ['dense_250[0][0]']           \n",
      " bda)                                                                                             \n",
      "                                                                                                  \n",
      " tf.math.squared_difference  (None, 4)                    0         ['tf.convert_to_tensor_18[0][0\n",
      " _18 (TFOpLambda)                                                   ]',                           \n",
      "                                                                     'tf.cast_18[0][0]']          \n",
      "                                                                                                  \n",
      " tf.math.subtract_70 (TFOpL  (None, 3)                    0         ['tf.__operators__.add_53[0][0\n",
      " ambda)                                                             ]',                           \n",
      "                                                                     'tf.math.square_35[0][0]']   \n",
      "                                                                                                  \n",
      " tf.math.exp_18 (TFOpLambda  (None, 3)                    0         ['dense_251[0][0]']           \n",
      " )                                                                                                \n",
      "                                                                                                  \n",
      " tf.math.reduce_mean_70 (TF  (None,)                      0         ['tf.math.squared_difference_1\n",
      " OpLambda)                                                          8[0][0]']                     \n",
      "                                                                                                  \n",
      " tf.math.subtract_71 (TFOpL  (None, 3)                    0         ['tf.math.subtract_70[0][0]', \n",
      " ambda)                                                              'tf.math.exp_18[0][0]']      \n",
      "                                                                                                  \n",
      " tf.math.truediv_18 (TFOpLa  (None,)                      0         ['tf.math.reduce_mean_70[0][0]\n",
      " mbda)                                                              ']                            \n",
      "                                                                                                  \n",
      " tf.math.reduce_sum_18 (TFO  (None,)                      0         ['tf.math.subtract_71[0][0]'] \n",
      " pLambda)                                                                                         \n",
      "                                                                                                  \n",
      " tf.math.multiply_53 (TFOpL  (None,)                      0         ['tf.math.truediv_18[0][0]']  \n",
      " ambda)                                                                                           \n",
      "                                                                                                  \n",
      " tf.math.multiply_54 (TFOpL  (None,)                      0         ['tf.math.reduce_sum_18[0][0]'\n",
      " ambda)                                                             ]                             \n",
      "                                                                                                  \n",
      " tf.__operators__.add_54 (T  (None,)                      0         ['tf.math.multiply_53[0][0]', \n",
      " FOpLambda)                                                          'tf.math.multiply_54[0][0]'] \n",
      "                                                                                                  \n",
      " tf.math.reduce_mean_71 (TF  ()                           0         ['tf.__operators__.add_54[0][0\n",
      " OpLambda)                                                          ]']                           \n",
      "                                                                                                  \n",
      " add_loss_17 (AddLoss)       ()                           0         ['tf.math.reduce_mean_71[0][0]\n",
      "                                                                    ']                            \n",
      "                                                                                                  \n",
      "==================================================================================================\n",
      "Total params: 56830 (221.99 KB)\n",
      "Trainable params: 56830 (221.99 KB)\n",
      "Non-trainable params: 0 (0.00 Byte)\n",
      "__________________________________________________________________________________________________\n"
     ]
    },
    {
     "data": {
      "text/plain": [
       "(None, None, None)"
      ]
     },
     "execution_count": 298,
     "metadata": {},
     "output_type": "execute_result"
    }
   ],
   "source": [
    "import tensorflow as tf\n",
    "from tensorflow.keras import layers, Model\n",
    "\n",
    "# Define the dimensions and hyperparameters\n",
    "original_dim = df.shape[1]   # minus 1 to exclude the index column\n",
    "latent_dim = 3  # Dimension of the latent space\n",
    "sigma = 1 # Hyperparameter that defines the strength of the regularization term\n",
    "\n",
    "# Encoder\n",
    "inputs = layers.Input(shape=(original_dim,))\n",
    "x = layers.Dense(256, activation='elu')(inputs) # Input Layer\n",
    "x = layers.Dense(128, activation='leaky_relu')(x) # Input Layer\n",
    "x = layers.Dense(64, activation='leaky_relu')(x) # Input Layer\n",
    "x = layers.Dense(32, activation='leaky_relu')(x) # Dense Layer\n",
    "x = layers.Dense(16, activation='leaky_relu')(x) # Dense Layer\n",
    "x = layers.Dense(8, activation='leaky_relu')(x) # Dense Layer\n",
    "x = layers.Dense(4, activation='linear')(x) # Dense Layer\n",
    "z_mean = layers.Dense(latent_dim)(x) # output Layer\n",
    "z_log_var = layers.Dense(latent_dim)(x) # output Layer\n",
    "\n",
    "# Sampling function\n",
    "def sampling(args):\n",
    "    z_mean, z_log_var = args\n",
    "    batch = tf.shape(z_mean)[0]\n",
    "    dim = tf.shape(z_mean)[1]\n",
    "    epsilon = tf.keras.backend.random_normal(shape=(batch, dim))\n",
    "    return z_mean + tf.exp(0.5 * z_log_var) * epsilon # Reparameterization trick\n",
    "z = layers.Lambda(sampling)([z_mean, z_log_var])\n",
    "\n",
    "# Decoder\n",
    "decoder_input = layers.Input(shape=(latent_dim,))\n",
    "x = layers.Dense(4, activation='elu')(decoder_input)\n",
    "x = layers.Dense(16, activation='leaky_relu')(x)\n",
    "x = layers.Dense(32, activation='leaky_relu')(x)\n",
    "x = layers.Dense(64, activation='relu')(x)\n",
    "x = layers.Dense(128, activation='elu')(x) # Input Layer\n",
    "\n",
    "\n",
    "\n",
    "decoder_output = layers.Dense(original_dim, activation='linear')(x)\n",
    "\n",
    "# Models\n",
    "encoder = Model(inputs, [z_mean, z_log_var, z], name='encoder')\n",
    "decoder = Model(decoder_input, decoder_output, name='decoder')\n",
    "\n",
    "# VAE model\n",
    "outputs = decoder(encoder(inputs)[2])\n",
    "vae = Model(inputs, outputs, name='vae')\n",
    "\n",
    "# Loss function\n",
    "reconstruction_loss = tf.keras.losses.mean_squared_error(inputs, outputs)/(2*sigma**2)\n",
    "reconstruction_loss *= original_dim\n",
    "kl_loss = 1 + z_log_var - tf.square(z_mean) - tf.exp(z_log_var)\n",
    "kl_loss = tf.reduce_sum(kl_loss, axis=-1)\n",
    "kl_loss *= -0.5\n",
    "vae_loss = tf.reduce_mean(reconstruction_loss + kl_loss)\n",
    "\n",
    "\n",
    "\n",
    "\n",
    "\n",
    "# Add the loss function to the VAE model\n",
    "vae.add_loss(vae_loss)\n",
    "# Compile the VAE model with the optimizer and the loss function\n",
    "vae.compile(optimizer='adam')\n",
    "\n",
    "\n",
    "# For the WAE Loss: \n",
    "##\n",
    "Lambda = 0.01\n",
    "\n",
    "def second_wasserstein_distance(mu, nu, sigma_mu, sigma_nu):\n",
    "    # Compute the trace term\n",
    "    trace_term = tf.linalg.trace(tf.linalg.matmul(sigma_mu, sigma_nu))\n",
    "\n",
    "    # Compute the mean term\n",
    "    mean_term = tf.reduce_mean(tf.square(mu - nu))\n",
    "\n",
    "    # Compute the second Wasserstein distance\n",
    "    wasserstein_distance = trace_term + mean_term\n",
    "\n",
    "    return wasserstein_distance\n",
    "\n",
    "weiss = second_wasserstein_distance(z_mean, tf.zeros([latent_dim]), z_log_var, tf.eye(latent_dim))\n",
    "wae_loss = tf.reduce_mean(reconstruction_loss - Lambda * weiss)\n",
    "##\n",
    "\n",
    "\n",
    "# Displaying the model summary\n",
    "encoder.summary(), decoder.summary(), vae.summary()\n"
   ]
  },
  {
   "cell_type": "code",
   "execution_count": 299,
   "id": "711ae288",
   "metadata": {},
   "outputs": [
    {
     "name": "stdout",
     "output_type": "stream",
     "text": [
      "Epoch 1/20\n",
      "24/24 [==============================] - 1s 2ms/step - loss: 0.0063\n",
      "Epoch 2/20\n",
      "24/24 [==============================] - 0s 2ms/step - loss: 6.4324e-04\n",
      "Epoch 3/20\n",
      "24/24 [==============================] - 0s 2ms/step - loss: 3.6870e-04\n",
      "Epoch 4/20\n",
      "24/24 [==============================] - 0s 2ms/step - loss: 2.9985e-04\n",
      "Epoch 5/20\n",
      "24/24 [==============================] - 0s 2ms/step - loss: 2.8330e-04\n",
      "Epoch 6/20\n",
      "24/24 [==============================] - 0s 2ms/step - loss: 2.8594e-04\n",
      "Epoch 7/20\n",
      "24/24 [==============================] - 0s 2ms/step - loss: 3.2033e-04\n",
      "Epoch 8/20\n",
      "24/24 [==============================] - 0s 2ms/step - loss: 2.8828e-04\n",
      "Epoch 9/20\n",
      "24/24 [==============================] - 0s 2ms/step - loss: 2.7889e-04\n",
      "Epoch 10/20\n",
      "24/24 [==============================] - 0s 4ms/step - loss: 2.6344e-04\n",
      "Epoch 11/20\n",
      "24/24 [==============================] - 0s 2ms/step - loss: 2.7038e-04\n",
      "Epoch 12/20\n",
      "24/24 [==============================] - 0s 2ms/step - loss: 2.6413e-04\n",
      "Epoch 13/20\n",
      "24/24 [==============================] - 0s 2ms/step - loss: 2.7027e-04\n",
      "Epoch 14/20\n",
      "24/24 [==============================] - 0s 2ms/step - loss: 2.5020e-04\n",
      "Epoch 15/20\n",
      "24/24 [==============================] - 0s 3ms/step - loss: 2.5859e-04\n",
      "Epoch 16/20\n",
      "24/24 [==============================] - 0s 3ms/step - loss: 2.9439e-04\n",
      "Epoch 17/20\n",
      "24/24 [==============================] - 0s 3ms/step - loss: 2.6325e-04\n",
      "Epoch 18/20\n",
      "24/24 [==============================] - 0s 3ms/step - loss: 2.6798e-04\n",
      "Epoch 19/20\n",
      "24/24 [==============================] - 0s 2ms/step - loss: 2.5499e-04\n",
      "Epoch 20/20\n",
      "24/24 [==============================] - 0s 2ms/step - loss: 2.5605e-04\n",
      "13/13 [==============================] - 0s 713us/step\n",
      "WARNING:tensorflow:Found duplicated `Variable`s in Model's `weights`. This is usually caused by `Variable`s being shared by Layers in the Model. These `Variable`s will be treated as separate `Variable`s when the Model is restored. To avoid this, please save with `save_format=\"tf\"`.\n"
     ]
    },
    {
     "name": "stderr",
     "output_type": "stream",
     "text": [
      "/Users/yass/anaconda3/lib/python3.11/site-packages/keras/src/engine/training.py:3103: UserWarning: You are saving your model as an HDF5 file via `model.save()`. This file format is considered legacy. We recommend using instead the native Keras format, e.g. `model.save('my_model.keras')`.\n",
      "  saving_api.save_model(\n"
     ]
    }
   ],
   "source": [
    "import numpy as np\n",
    "#Gradient Descent\n",
    "\n",
    "\n",
    "vae.fit(df, epochs=20, batch_size=32)\n",
    "\n",
    "# Generate new data\n",
    "z_sample = np.random.normal(size=(410, latent_dim)) # Generate latent space points that are normally distributed\n",
    "generated_data = decoder.predict(z_sample) \n",
    "\n",
    "# Save the generated data\n",
    "pd.DataFrame(generated_data).to_csv('generate_VAE.csv', index=False)\n",
    "pd.DataFrame(z_sample).to_csv('noise.csv', index=False)\n",
    "# Save the entire model\n",
    "vae.save('vae_model.h5')\n",
    "\n",
    "\n"
   ]
  },
  {
   "cell_type": "markdown",
   "id": "9c1fb04a",
   "metadata": {},
   "source": [
    "# Vizualization "
   ]
  },
  {
   "cell_type": "code",
   "execution_count": 300,
   "id": "d038c925",
   "metadata": {},
   "outputs": [
    {
     "name": "stdout",
     "output_type": "stream",
     "text": [
      "24/24 [==============================] - 0s 773us/step\n"
     ]
    },
    {
     "data": {
      "image/png": "[encoded data removed]",
      "text/plain": [
       "<Figure size 640x480 with 1 Axes>"
      ]
     },
     "metadata": {},
     "output_type": "display_data"
    }
   ],
   "source": [
    "import matplotlib.pyplot as plt  \n",
    "z_values = encoder.predict(df)[2]\n",
    "\n",
    "plt.scatter(z_values[:, 0], z_values[:, 1], s=1)\n",
    "plt.title('2D Latent Space')\n",
    "\n",
    "\n",
    "plt.show()\n",
    "\n"
   ]
  },
  {
   "cell_type": "code",
   "execution_count": 303,
   "id": "c2df6ddd",
   "metadata": {},
   "outputs": [
    {
     "name": "stdout",
     "output_type": "stream",
     "text": [
      "<class 'numpy.ndarray'>\n"
     ]
    }
   ],
   "source": [
    "ori_data = df.iloc[:410]\n",
    "ori_data = ori_data.to_numpy()\n",
    "print(type(ori_data))"
   ]
  },
  {
   "cell_type": "code",
   "execution_count": 304,
   "id": "526ea361",
   "metadata": {},
   "outputs": [
    {
     "data": {
      "image/png": "[encoded data removed]",
      "text/plain": [
       "<Figure size 1000x800 with 4 Axes>"
      ]
     },
     "metadata": {},
     "output_type": "display_data"
    }
   ],
   "source": [
    "num_variables = 746\n",
    "dimension = 4\n",
    "data = ori_data\n",
    "\n",
    "# Create subplots in a 2x2 grid for each dimension\n",
    "fig, axs = plt.subplots(2, 2, figsize=(10, 8))\n",
    "\n",
    "for dim in range(dimension):\n",
    "    row = dim // 2  # Determine the row index\n",
    "    col = dim % 2   # Determine the column index\n",
    "    axs[row, col].hist(data[:, dim], bins=30, alpha=0.7, label='Original Data')\n",
    "    axs[row, col].hist(generated_data[:, dim], bins=30, alpha=0.7, label='Generated Data')\n",
    "    axs[row, col].set_xlabel(f'Dimension {dim+1}')\n",
    "    axs[row, col].set_ylabel('Frequency')\n",
    "    axs[row, col].set_title(f'Histogram for Dimension {dim+1}')\n",
    "    axs[row, col].grid(True)\n",
    "    axs[row, col].legend()\n",
    "\n",
    "plt.tight_layout()\n",
    "plt.show()\n"
   ]
  },
  {
   "cell_type": "markdown",
   "id": "3afb4fb2",
   "metadata": {},
   "source": [
    "# Metrics Evaluation "
   ]
  },
  {
   "cell_type": "code",
   "execution_count": 305,
   "id": "54ab80d6",
   "metadata": {},
   "outputs": [
    {
     "data": {
      "text/plain": [
       "1.1113128618497"
      ]
     },
     "execution_count": 305,
     "metadata": {},
     "output_type": "execute_result"
    }
   ],
   "source": [
    "# Anderson-Darling Distance\n",
    "def anderson_darling_distance(generated_array, original_array):\n",
    "\n",
    "    def indice(a, b):\n",
    "        indice = int(a <= b)  \n",
    "        return indice\n",
    "\n",
    "    def u_i(X,Y):\n",
    "        n=len(X)\n",
    "        X.sort()\n",
    "        l=[]\n",
    "        for i in range(n):\n",
    "            l.append((1/(n+2))*(sum(indice(y,X[i]) for y in Y)+1))\n",
    "        return l\n",
    "    \n",
    "    def W(X,Y):\n",
    "        # Wn is a statistic that measures the distance between the empirical distribution function of the sample and the theoretical distribution function\n",
    "        n=len(X)\n",
    "        u=u_i(X,Y)\n",
    "        w_n=-n-(1/n)*sum(((2*i-1)*(np.log(u[i-1])+np.log(1-u[n-i]))) for i in range(1,n+1)) \n",
    "        return w_n\n",
    "\n",
    "    def anderson_darling(x,y):\n",
    "        # For the final Anderson-Darling distance, we average the Wn values for each feature\n",
    "        d=x.shape[1]\n",
    "        W_n=(1/d)*sum(W(x[i],y[i]) for i in range(d))\n",
    "        return W_n\n",
    "\n",
    "\n",
    "    return anderson_darling(generated_array, original_array)\n",
    "\n",
    "anderson_darling_distance(generated_data, ori_data)"
   ]
  },
  {
   "cell_type": "code",
   "execution_count": 306,
   "id": "2ab2e7e4",
   "metadata": {},
   "outputs": [
    {
     "name": "stdout",
     "output_type": "stream",
     "text": [
      "Absolute Kendall error: 0.22743753354403956\n"
     ]
    }
   ],
   "source": [
    "#Absolute Kendall error\n",
    "import numpy as np\n",
    "\n",
    "# Function to calculate Z_i for a dataset\n",
    "def calculate_zi(data):\n",
    "    n, d = data.shape\n",
    "    zi = np.zeros(n)\n",
    "    for i in range(n):\n",
    "        for j in range(n):\n",
    "            if j != i:\n",
    "                zi[i] += np.sum(data[j, :] < data[i, :])\n",
    "        zi[i] /= (n - 1) * d\n",
    "    return zi\n",
    "\n",
    "# Function to calculate the Absolute Kendall error between two datasets\n",
    "def absolute_kendall_error(data1, data2):\n",
    "    # Ensure the datasets have the same size\n",
    "    if data1.shape != data2.shape:\n",
    "        raise ValueError(\"Datasets must have the same size\")\n",
    "    \n",
    "    # Calculate Z_i for both datasets\n",
    "    zi_data1 = calculate_zi(data1)\n",
    "    zi_data2 = calculate_zi(data2)\n",
    "    \n",
    "    # Compute the L1 norm of the difference between the Z_i vectors\n",
    "    absolute_error = np.mean(np.abs(zi_data1 - zi_data2))\n",
    "    return absolute_error\n",
    "\n",
    "\n",
    "\n",
    "# Calculate the Absolute Kendall error\n",
    "error = absolute_kendall_error(ori_data, generated_data)\n",
    "print(f\"Absolute Kendall error: {error}\")\n"
   ]
  },
  {
   "cell_type": "markdown",
   "id": "6cb5561d",
   "metadata": {},
   "source": [
    "# Load the Model"
   ]
  },
  {
   "cell_type": "code",
   "execution_count": null,
   "id": "070991ae",
   "metadata": {},
   "outputs": [],
   "source": [
    "from keras.models import load_model\n",
    "vae2 = load_model('vae_model.h5', compile = False)\n",
    "file_path = './noise.csv'\n",
    "noise = pd.read_csv(file_path)\n",
    "noise = noise.to_numpy()"
   ]
  },
  {
   "cell_type": "code",
   "execution_count": null,
   "id": "3a8995c7",
   "metadata": {},
   "outputs": [
    {
     "name": "stdout",
     "output_type": "stream",
     "text": [
      "Model: \"vae\"\n",
      "__________________________________________________________________________________________________\n",
      " Layer (type)                Output Shape                 Param #   Connected to                  \n",
      "==================================================================================================\n",
      " input_7 (InputLayer)        [(None, 4)]                  0         []                            \n",
      "                                                                                                  \n",
      " encoder (Functional)        [(None, 3),                  177838    ['input_7[0][0]']             \n",
      "                              (None, 3),                                                          \n",
      "                              (None, 3)]                                                          \n",
      "                                                                                                  \n",
      " decoder (Functional)        (None, 4)                    11556     ['encoder[0][2]']             \n",
      "                                                                                                  \n",
      " dense_42 (Dense)            (None, 512)                  2560      ['input_7[0][0]']             \n",
      "                                                                                                  \n",
      " dense_43 (Dense)            (None, 256)                  131328    ['dense_42[0][0]']            \n",
      "                                                                                                  \n",
      " dense_44 (Dense)            (None, 128)                  32896     ['dense_43[0][0]']            \n",
      "                                                                                                  \n",
      " dense_45 (Dense)            (None, 64)                   8256      ['dense_44[0][0]']            \n",
      "                                                                                                  \n",
      " dense_46 (Dense)            (None, 32)                   2080      ['dense_45[0][0]']            \n",
      "                                                                                                  \n",
      " dense_47 (Dense)            (None, 16)                   528       ['dense_46[0][0]']            \n",
      "                                                                                                  \n",
      " dense_48 (Dense)            (None, 8)                    136       ['dense_47[0][0]']            \n",
      "                                                                                                  \n",
      " dense_50 (Dense)            (None, 3)                    27        ['dense_48[0][0]']            \n",
      "                                                                                                  \n",
      " dense_49 (Dense)            (None, 3)                    27        ['dense_48[0][0]']            \n",
      "                                                                                                  \n",
      " tf.convert_to_tensor_4 (TF  (None, 4)                    0         ['decoder[0][0]']             \n",
      " OpLambda)                                                                                        \n",
      "                                                                                                  \n",
      " tf.cast_4 (TFOpLambda)      (None, 4)                    0         ['input_7[0][0]']             \n",
      "                                                                                                  \n",
      " tf.__operators__.add_11 (T  (None, 3)                    0         ['dense_50[0][0]']            \n",
      " FOpLambda)                                                                                       \n",
      "                                                                                                  \n",
      " tf.math.square_7 (TFOpLamb  (None, 3)                    0         ['dense_49[0][0]']            \n",
      " da)                                                                                              \n",
      "                                                                                                  \n",
      " tf.math.squared_difference  (None, 4)                    0         ['tf.convert_to_tensor_4[0][0]\n",
      " _4 (TFOpLambda)                                                    ',                            \n",
      "                                                                     'tf.cast_4[0][0]']           \n",
      "                                                                                                  \n",
      " tf.math.subtract_14 (TFOpL  (None, 3)                    0         ['tf.__operators__.add_11[0][0\n",
      " ambda)                                                             ]',                           \n",
      "                                                                     'tf.math.square_7[0][0]']    \n",
      "                                                                                                  \n",
      " tf.math.exp_4 (TFOpLambda)  (None, 3)                    0         ['dense_50[0][0]']            \n",
      "                                                                                                  \n",
      " tf.math.reduce_mean_14 (TF  (None,)                      0         ['tf.math.squared_difference_4\n",
      " OpLambda)                                                          [0][0]']                      \n",
      "                                                                                                  \n",
      " tf.math.subtract_15 (TFOpL  (None, 3)                    0         ['tf.math.subtract_14[0][0]', \n",
      " ambda)                                                              'tf.math.exp_4[0][0]']       \n",
      "                                                                                                  \n",
      " tf.math.truediv_4 (TFOpLam  (None,)                      0         ['tf.math.reduce_mean_14[0][0]\n",
      " bda)                                                               ']                            \n",
      "                                                                                                  \n",
      " tf.math.reduce_sum_4 (TFOp  (None,)                      0         ['tf.math.subtract_15[0][0]'] \n",
      " Lambda)                                                                                          \n",
      "                                                                                                  \n",
      " tf.math.multiply_11 (TFOpL  (None,)                      0         ['tf.math.truediv_4[0][0]']   \n",
      " ambda)                                                                                           \n",
      "                                                                                                  \n",
      " tf.math.multiply_12 (TFOpL  (None,)                      0         ['tf.math.reduce_sum_4[0][0]']\n",
      " ambda)                                                                                           \n",
      "                                                                                                  \n",
      " tf.__operators__.add_12 (T  (None,)                      0         ['tf.math.multiply_11[0][0]', \n",
      " FOpLambda)                                                          'tf.math.multiply_12[0][0]'] \n",
      "                                                                                                  \n",
      " tf.math.reduce_mean_15 (TF  ()                           0         ['tf.__operators__.add_12[0][0\n",
      " OpLambda)                                                          ]']                           \n",
      "                                                                                                  \n",
      " add_loss_3 (AddLoss)        ()                           0         ['tf.math.reduce_mean_15[0][0]\n",
      "                                                                    ']                            \n",
      "                                                                                                  \n",
      "==================================================================================================\n",
      "Total params: 367232 (1.40 MB)\n",
      "Trainable params: 367232 (1.40 MB)\n",
      "Non-trainable params: 0 (0.00 Byte)\n",
      "__________________________________________________________________________________________________\n"
     ]
    }
   ],
   "source": [
    "vae2.summary()"
   ]
  },
  {
   "cell_type": "code",
   "execution_count": null,
   "id": "6557d471",
   "metadata": {},
   "outputs": [],
   "source": [
    "vae2.compile(optimizer='adam')\n"
   ]
  },
  {
   "cell_type": "code",
   "execution_count": null,
   "id": "a23145a5",
   "metadata": {},
   "outputs": [
    {
     "name": "stdout",
     "output_type": "stream",
     "text": [
      "13/13 [==============================] - 0s 626us/step\n"
     ]
    }
   ],
   "source": [
    "latent_dim = 3\n",
    "\n",
    "z_sample = noise # Generate latent space points that are normally distributed\n",
    "generated_data2 = decoder.predict(z_sample) "
   ]
  },
  {
   "cell_type": "code",
   "execution_count": null,
   "id": "8ca5c3c1",
   "metadata": {},
   "outputs": [
    {
     "data": {
      "text/plain": [
       "1.9832933366289376"
      ]
     },
     "execution_count": 293,
     "metadata": {},
     "output_type": "execute_result"
    }
   ],
   "source": [
    "anderson_darling_distance(generated_data2, ori_data)"
   ]
  }
 ],
 "metadata": {
  "kernelspec": {
   "display_name": "Python 3 (ipykernel)",
   "language": "python",
   "name": "python3"
  },
  "language_info": {
   "codemirror_mode": {
    "name": "ipython",
    "version": 3
   },
   "file_extension": ".py",
   "mimetype": "text/x-python",
   "name": "python",
   "nbconvert_exporter": "python",
   "pygments_lexer": "ipython3",
   "version": "3.11.4"
  }
 },
 "nbformat": 4,
 "nbformat_minor": 5
}
